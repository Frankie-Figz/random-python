{
 "cells": [
  {
   "cell_type": "code",
   "execution_count": 4,
   "metadata": {},
   "outputs": [],
   "source": [
    "import numpy as np"
   ]
  },
  {
   "cell_type": "code",
   "execution_count": 24,
   "metadata": {},
   "outputs": [],
   "source": [
    "def fizzbuzz(input):\n",
    "    for i in np.arange(input):\n",
    "        if (i % 15 == 0):\n",
    "            print(f'{i} - fizzbuzz')\n",
    "        elif (i % 5 == 0):\n",
    "            print(f'{i} - fizz')\n",
    "        elif (i % 3 == 0):\n",
    "            print(f'{i} - buzz')\n",
    "        else:\n",
    "            print(f'{i} - nofizzy')"
   ]
  },
  {
   "cell_type": "code",
   "execution_count": 25,
   "metadata": {},
   "outputs": [
    {
     "name": "stdout",
     "output_type": "stream",
     "text": [
      "0 - fizzbuzz\n",
      "1 - nofizzy\n",
      "2 - nofizzy\n",
      "3 - buzz\n",
      "4 - nofizzy\n",
      "5 - fizz\n",
      "6 - buzz\n",
      "7 - nofizzy\n",
      "8 - nofizzy\n",
      "9 - buzz\n",
      "10 - fizz\n",
      "11 - nofizzy\n",
      "12 - buzz\n",
      "13 - nofizzy\n",
      "14 - nofizzy\n",
      "15 - fizzbuzz\n",
      "16 - nofizzy\n",
      "17 - nofizzy\n",
      "18 - buzz\n",
      "19 - nofizzy\n",
      "20 - fizz\n",
      "21 - buzz\n",
      "22 - nofizzy\n",
      "23 - nofizzy\n",
      "24 - buzz\n",
      "25 - fizz\n",
      "26 - nofizzy\n",
      "27 - buzz\n",
      "28 - nofizzy\n",
      "29 - nofizzy\n",
      "30 - fizzbuzz\n",
      "31 - nofizzy\n",
      "32 - nofizzy\n",
      "33 - buzz\n",
      "34 - nofizzy\n",
      "35 - fizz\n",
      "36 - buzz\n",
      "37 - nofizzy\n",
      "38 - nofizzy\n",
      "39 - buzz\n",
      "40 - fizz\n",
      "41 - nofizzy\n",
      "42 - buzz\n",
      "43 - nofizzy\n",
      "44 - nofizzy\n",
      "45 - fizzbuzz\n",
      "46 - nofizzy\n",
      "47 - nofizzy\n",
      "48 - buzz\n",
      "49 - nofizzy\n",
      "50 - fizz\n",
      "51 - buzz\n",
      "52 - nofizzy\n",
      "53 - nofizzy\n",
      "54 - buzz\n",
      "55 - fizz\n",
      "56 - nofizzy\n",
      "57 - buzz\n",
      "58 - nofizzy\n",
      "59 - nofizzy\n",
      "60 - fizzbuzz\n",
      "61 - nofizzy\n",
      "62 - nofizzy\n",
      "63 - buzz\n",
      "64 - nofizzy\n",
      "65 - fizz\n",
      "66 - buzz\n",
      "67 - nofizzy\n",
      "68 - nofizzy\n",
      "69 - buzz\n",
      "70 - fizz\n",
      "71 - nofizzy\n",
      "72 - buzz\n",
      "73 - nofizzy\n",
      "74 - nofizzy\n",
      "75 - fizzbuzz\n",
      "76 - nofizzy\n",
      "77 - nofizzy\n",
      "78 - buzz\n",
      "79 - nofizzy\n",
      "80 - fizz\n",
      "81 - buzz\n",
      "82 - nofizzy\n",
      "83 - nofizzy\n",
      "84 - buzz\n",
      "85 - fizz\n",
      "86 - nofizzy\n",
      "87 - buzz\n",
      "88 - nofizzy\n",
      "89 - nofizzy\n",
      "90 - fizzbuzz\n",
      "91 - nofizzy\n",
      "92 - nofizzy\n",
      "93 - buzz\n",
      "94 - nofizzy\n",
      "95 - fizz\n",
      "96 - buzz\n",
      "97 - nofizzy\n",
      "98 - nofizzy\n",
      "99 - buzz\n"
     ]
    }
   ],
   "source": [
    "fizzbuzz(100)"
   ]
  },
  {
   "cell_type": "code",
   "execution_count": 83,
   "metadata": {},
   "outputs": [],
   "source": [
    "def letters(input):\n",
    "    for item in (input):\n",
    "        count = 0\n",
    "        if ('e' in item):\n",
    "            for letter in item:\n",
    "                if letter == 'e':\n",
    "                      count += 1\n",
    "            print(f'{item} - this word contains {count} e') \n",
    "\n",
    "        else:\n",
    "            print(f'{item} - this word does not contain an e')\n",
    "        "
   ]
  },
  {
   "cell_type": "code",
   "execution_count": 116,
   "metadata": {},
   "outputs": [
    {
     "name": "stdout",
     "output_type": "stream",
     "text": [
      "ben - this word contains 1 e\n",
      "josh - this word does not contain an e\n",
      "steve - this word contains 2 e\n",
      "stuart - this word does not contain an e\n",
      "hadley - this word contains 1 e\n",
      "avery - this word contains 1 e\n"
     ]
    }
   ],
   "source": [
    "letters(['ben', 'josh', 'steve', 'stuart', 'hadley', 'avery'])"
   ]
  },
  {
   "cell_type": "code",
   "execution_count": 117,
   "metadata": {},
   "outputs": [],
   "source": [
    "def characterFinder(inputList, letterToFind):\n",
    "    for item in (inputList):\n",
    "        count = 0\n",
    "        if (letterToFind in item):\n",
    "            for letter in item:\n",
    "                if letter == letterToFind:\n",
    "                      count += 1\n",
    "            print(f'{item} - this word contains {count} {letterToFind}') \n",
    "\n",
    "        else:\n",
    "            print(f'{item} - this word does not contain an {letterToFind}')"
   ]
  },
  {
   "cell_type": "code",
   "execution_count": 124,
   "metadata": {},
   "outputs": [],
   "source": [
    "inputList = ['ben', 'avery', 'stuart', 'hadley', 'andrei', 'gilbert', 'arenas', 'g-unit']\n",
    "letterToFind = 'e'"
   ]
  },
  {
   "cell_type": "code",
   "execution_count": 125,
   "metadata": {},
   "outputs": [
    {
     "name": "stdout",
     "output_type": "stream",
     "text": [
      "ben - this word contains 1 e\n",
      "avery - this word contains 1 e\n",
      "stuart - this word does not contain an e\n",
      "hadley - this word contains 1 e\n",
      "andrei - this word contains 1 e\n",
      "gilbert - this word contains 1 e\n",
      "arenas - this word contains 1 e\n",
      "g-unit - this word does not contain an e\n"
     ]
    }
   ],
   "source": [
    "letterFinder(inputList, letterToFind)"
   ]
  },
  {
   "cell_type": "code",
   "execution_count": null,
   "metadata": {},
   "outputs": [],
   "source": []
  }
 ],
 "metadata": {
  "kernelspec": {
   "display_name": "Python 3",
   "language": "python",
   "name": "python3"
  },
  "language_info": {
   "codemirror_mode": {
    "name": "ipython",
    "version": 3
   },
   "file_extension": ".py",
   "mimetype": "text/x-python",
   "name": "python",
   "nbconvert_exporter": "python",
   "pygments_lexer": "ipython3",
   "version": "3.7.6"
  }
 },
 "nbformat": 4,
 "nbformat_minor": 4
}
